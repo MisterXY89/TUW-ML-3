{
 "cells": [
  {
   "attachments": {},
   "cell_type": "markdown",
   "metadata": {},
   "source": [
    "# ML: Assignment 3"
   ]
  },
  {
   "attachments": {},
   "cell_type": "markdown",
   "metadata": {},
   "source": [
    "## Imports"
   ]
  },
  {
   "cell_type": "code",
   "execution_count": 1,
   "metadata": {},
   "outputs": [],
   "source": [
    "from src.data_loading import DataLoader\n",
    "from src.data_processing import Process\n",
    "\n",
    "from src.next_word_model import NextWordModel\n",
    "\n",
    "from src.prediction_evaluation import Evaluator"
   ]
  },
  {
   "attachments": {},
   "cell_type": "markdown",
   "metadata": {},
   "source": [
    "## Pipeline"
   ]
  },
  {
   "attachments": {},
   "cell_type": "markdown",
   "metadata": {},
   "source": [
    "### Data Loading & Processing"
   ]
  },
  {
   "cell_type": "code",
   "execution_count": 2,
   "metadata": {},
   "outputs": [],
   "source": [
    "dl = DataLoader()\n",
    "process = Process(dl)"
   ]
  },
  {
   "cell_type": "code",
   "execution_count": 3,
   "metadata": {},
   "outputs": [
    {
     "name": "stdout",
     "output_type": "stream",
     "text": [
      "[Errno 2] No such file or directory: '/Users/tilmankerl/Documents/UNI/01_WS22/Machine Learning/exercises/03/src/_objects/data.pkl'\n",
      "No preprocessed file to load - <force> will be ignored.\n"
     ]
    },
    {
     "name": "stderr",
     "output_type": "stream",
     "text": [
      "/Users/tilmankerl/Documents/UNI/01_WS22/Machine Learning/exercises/03/src/data_processing.py:27: UserWarning: This pattern is interpreted as a regular expression, and has match groups. To actually get the groups, use str.extract.\n",
      "  df[\"hasLink\"] = df.text.str.contains(url_regex)\n",
      "/Users/tilmankerl/Documents/UNI/01_WS22/Machine Learning/exercises/03/src/data_processing.py:27: UserWarning: This pattern is interpreted as a regular expression, and has match groups. To actually get the groups, use str.extract.\n",
      "  df[\"hasLink\"] = df.text.str.contains(url_regex)\n"
     ]
    }
   ],
   "source": [
    "X_train, X_test, y_train, y_test = process.process(force=False)\n"
   ]
  },
  {
   "cell_type": "code",
   "execution_count": 4,
   "metadata": {},
   "outputs": [
    {
     "name": "stdout",
     "output_type": "stream",
     "text": [
      "38132\n"
     ]
    }
   ],
   "source": [
    "print(len(X_train))"
   ]
  },
  {
   "attachments": {},
   "cell_type": "markdown",
   "metadata": {},
   "source": [
    "### Model Init & Training"
   ]
  },
  {
   "cell_type": "code",
   "execution_count": 5,
   "metadata": {},
   "outputs": [
    {
     "name": "stdout",
     "output_type": "stream",
     "text": [
      "Model: \"sequential\"\n",
      "_________________________________________________________________\n",
      " Layer (type)                Output Shape              Param #   \n",
      "=================================================================\n",
      " embedding (Embedding)       (None, 1, 10)             52330     \n",
      "                                                                 \n",
      " lstm (LSTM)                 (None, 1, 100)            44400     \n",
      "                                                                 \n",
      " lstm_1 (LSTM)               (None, 100)               80400     \n",
      "                                                                 \n",
      " dense (Dense)               (None, 100)               10100     \n",
      "                                                                 \n",
      " dense_1 (Dense)             (None, 5233)              528533    \n",
      "                                                                 \n",
      "=================================================================\n",
      "Total params: 715,763\n",
      "Trainable params: 715,763\n",
      "Non-trainable params: 0\n",
      "_________________________________________________________________\n",
      "None\n",
      "Loading existing model failed:\n",
      "module 'tensorflow' has no attribute 'load'\n"
     ]
    }
   ],
   "source": [
    "model = NextWordModel(\n",
    "    sequence_length = process.sequence_length,\n",
    "    vocab_size = process.vocab_size,\n",
    "    load_existing = True\n",
    ")"
   ]
  },
  {
   "cell_type": "code",
   "execution_count": 6,
   "metadata": {},
   "outputs": [
    {
     "name": "stdout",
     "output_type": "stream",
     "text": [
      "Epoch 1/100\n"
     ]
    },
    {
     "name": "stderr",
     "output_type": "stream",
     "text": [
      "2023-02-01 17:38:42.325944: W tensorflow/tsl/platform/profile_utils/cpu_utils.cc:128] Failed to get CPU frequency: 0 Hz\n"
     ]
    },
    {
     "name": "stdout",
     "output_type": "stream",
     "text": [
      "298/298 [==============================] - 4s 7ms/step - loss: 6.8873 - accuracy: 0.0550\n",
      "Epoch 2/100\n",
      "298/298 [==============================] - 2s 7ms/step - loss: 6.3523 - accuracy: 0.0554\n",
      "Epoch 3/100\n",
      "298/298 [==============================] - 2s 7ms/step - loss: 6.3085 - accuracy: 0.0554\n",
      "Epoch 4/100\n",
      "298/298 [==============================] - 2s 7ms/step - loss: 6.2842 - accuracy: 0.0564\n",
      "Epoch 5/100\n",
      "298/298 [==============================] - 2s 7ms/step - loss: 6.2585 - accuracy: 0.0621\n",
      "Epoch 6/100\n",
      "298/298 [==============================] - 2s 8ms/step - loss: 6.1845 - accuracy: 0.0661\n",
      "Epoch 7/100\n",
      "298/298 [==============================] - 2s 8ms/step - loss: 6.1023 - accuracy: 0.0696\n",
      "Epoch 8/100\n",
      "298/298 [==============================] - 3s 8ms/step - loss: 6.0390 - accuracy: 0.0718\n",
      "Epoch 9/100\n",
      "298/298 [==============================] - 3s 9ms/step - loss: 5.9795 - accuracy: 0.0732\n",
      "Epoch 10/100\n",
      "298/298 [==============================] - 2s 8ms/step - loss: 5.9204 - accuracy: 0.0790\n",
      "Epoch 11/100\n",
      "298/298 [==============================] - 2s 8ms/step - loss: 5.8619 - accuracy: 0.0877\n",
      "Epoch 12/100\n",
      "298/298 [==============================] - 2s 8ms/step - loss: 5.8074 - accuracy: 0.0935\n",
      "Epoch 13/100\n",
      "298/298 [==============================] - 2s 8ms/step - loss: 5.7512 - accuracy: 0.0985\n",
      "Epoch 14/100\n",
      "298/298 [==============================] - 2s 8ms/step - loss: 5.6974 - accuracy: 0.1000\n",
      "Epoch 15/100\n",
      "298/298 [==============================] - 2s 8ms/step - loss: 5.6425 - accuracy: 0.1023\n",
      "Epoch 16/100\n",
      "298/298 [==============================] - 2s 8ms/step - loss: 5.5898 - accuracy: 0.1077\n",
      "Epoch 17/100\n",
      "298/298 [==============================] - 2s 8ms/step - loss: 5.5390 - accuracy: 0.1098\n",
      "Epoch 18/100\n",
      "298/298 [==============================] - 2s 8ms/step - loss: 5.4922 - accuracy: 0.1129\n",
      "Epoch 19/100\n",
      "298/298 [==============================] - 2s 8ms/step - loss: 5.4446 - accuracy: 0.1141\n",
      "Epoch 20/100\n",
      "298/298 [==============================] - 2s 8ms/step - loss: 5.3981 - accuracy: 0.1161\n",
      "Epoch 21/100\n",
      "298/298 [==============================] - 2s 7ms/step - loss: 5.3556 - accuracy: 0.1194\n",
      "Epoch 22/100\n",
      "298/298 [==============================] - 2s 8ms/step - loss: 5.3169 - accuracy: 0.1235\n",
      "Epoch 23/100\n",
      "298/298 [==============================] - 2s 8ms/step - loss: 5.2800 - accuracy: 0.1263\n",
      "Epoch 24/100\n",
      "298/298 [==============================] - 2s 8ms/step - loss: 5.2447 - accuracy: 0.1302\n",
      "Epoch 25/100\n",
      "298/298 [==============================] - 2s 8ms/step - loss: 5.2119 - accuracy: 0.1309\n",
      "Epoch 26/100\n",
      "298/298 [==============================] - 2s 8ms/step - loss: 5.1809 - accuracy: 0.1322\n",
      "Epoch 27/100\n",
      "298/298 [==============================] - 2s 8ms/step - loss: 5.1495 - accuracy: 0.1359\n",
      "Epoch 28/100\n",
      "298/298 [==============================] - 2s 8ms/step - loss: 5.1201 - accuracy: 0.1385\n",
      "Epoch 29/100\n",
      "298/298 [==============================] - 2s 8ms/step - loss: 5.0916 - accuracy: 0.1394\n",
      "Epoch 30/100\n",
      "298/298 [==============================] - 2s 8ms/step - loss: 5.0609 - accuracy: 0.1412\n",
      "Epoch 31/100\n",
      "298/298 [==============================] - 2s 8ms/step - loss: 5.0345 - accuracy: 0.1437\n",
      "Epoch 32/100\n",
      "298/298 [==============================] - 2s 8ms/step - loss: 5.0064 - accuracy: 0.1462\n",
      "Epoch 33/100\n",
      "298/298 [==============================] - 2s 8ms/step - loss: 4.9821 - accuracy: 0.1459\n",
      "Epoch 34/100\n",
      "298/298 [==============================] - 2s 8ms/step - loss: 4.9530 - accuracy: 0.1497\n",
      "Epoch 35/100\n",
      "298/298 [==============================] - 2s 8ms/step - loss: 4.9289 - accuracy: 0.1505\n",
      "Epoch 36/100\n",
      "298/298 [==============================] - 2s 8ms/step - loss: 4.9038 - accuracy: 0.1538\n",
      "Epoch 37/100\n",
      "298/298 [==============================] - 2s 8ms/step - loss: 4.8777 - accuracy: 0.1542\n",
      "Epoch 38/100\n",
      "298/298 [==============================] - 2s 8ms/step - loss: 4.8547 - accuracy: 0.1555\n",
      "Epoch 39/100\n",
      "298/298 [==============================] - 2s 8ms/step - loss: 4.8315 - accuracy: 0.1562\n",
      "Epoch 40/100\n",
      "298/298 [==============================] - 2s 8ms/step - loss: 4.8065 - accuracy: 0.1590\n",
      "Epoch 41/100\n",
      "298/298 [==============================] - 2s 8ms/step - loss: 4.7876 - accuracy: 0.1596\n",
      "Epoch 42/100\n",
      "298/298 [==============================] - 2s 8ms/step - loss: 4.7628 - accuracy: 0.1619\n",
      "Epoch 43/100\n",
      "298/298 [==============================] - 3s 9ms/step - loss: 4.7421 - accuracy: 0.1624\n",
      "Epoch 44/100\n",
      "298/298 [==============================] - 2s 8ms/step - loss: 4.7221 - accuracy: 0.1638\n",
      "Epoch 45/100\n",
      "298/298 [==============================] - 3s 8ms/step - loss: 4.6983 - accuracy: 0.1667\n",
      "Epoch 46/100\n",
      "298/298 [==============================] - 2s 8ms/step - loss: 4.6794 - accuracy: 0.1674\n",
      "Epoch 47/100\n",
      "298/298 [==============================] - 2s 8ms/step - loss: 4.6609 - accuracy: 0.1682\n",
      "Epoch 48/100\n",
      "298/298 [==============================] - 2s 8ms/step - loss: 4.6394 - accuracy: 0.1704\n",
      "Epoch 49/100\n",
      "298/298 [==============================] - 2s 8ms/step - loss: 4.6224 - accuracy: 0.1716\n",
      "Epoch 50/100\n",
      "298/298 [==============================] - 2s 8ms/step - loss: 4.5996 - accuracy: 0.1715\n",
      "Epoch 51/100\n",
      "298/298 [==============================] - 2s 8ms/step - loss: 4.5794 - accuracy: 0.1730\n",
      "Epoch 52/100\n",
      "298/298 [==============================] - 2s 8ms/step - loss: 4.5621 - accuracy: 0.1735\n",
      "Epoch 53/100\n",
      "298/298 [==============================] - 2s 8ms/step - loss: 4.5442 - accuracy: 0.1747\n",
      "Epoch 54/100\n",
      "298/298 [==============================] - 2s 8ms/step - loss: 4.5265 - accuracy: 0.1762\n",
      "Epoch 55/100\n",
      "298/298 [==============================] - 2s 8ms/step - loss: 4.5086 - accuracy: 0.1763\n",
      "Epoch 56/100\n",
      "298/298 [==============================] - 3s 9ms/step - loss: 4.4896 - accuracy: 0.1785\n",
      "Epoch 57/100\n",
      "298/298 [==============================] - 2s 8ms/step - loss: 4.4731 - accuracy: 0.1782\n",
      "Epoch 58/100\n",
      "298/298 [==============================] - 2s 8ms/step - loss: 4.4579 - accuracy: 0.1801\n",
      "Epoch 59/100\n",
      "298/298 [==============================] - 2s 8ms/step - loss: 4.4405 - accuracy: 0.1805\n",
      "Epoch 60/100\n",
      "298/298 [==============================] - 2s 8ms/step - loss: 4.4290 - accuracy: 0.1816\n",
      "Epoch 61/100\n",
      "298/298 [==============================] - 2s 8ms/step - loss: 4.4106 - accuracy: 0.1831\n",
      "Epoch 62/100\n",
      "298/298 [==============================] - 2s 8ms/step - loss: 4.3984 - accuracy: 0.1848\n",
      "Epoch 63/100\n",
      "298/298 [==============================] - 2s 8ms/step - loss: 4.3833 - accuracy: 0.1854\n",
      "Epoch 64/100\n",
      "298/298 [==============================] - 2s 8ms/step - loss: 4.3713 - accuracy: 0.1859\n",
      "Epoch 65/100\n",
      "298/298 [==============================] - 2s 8ms/step - loss: 4.3557 - accuracy: 0.1870\n",
      "Epoch 66/100\n",
      "298/298 [==============================] - 2s 8ms/step - loss: 4.3424 - accuracy: 0.1895\n",
      "Epoch 67/100\n",
      "298/298 [==============================] - 2s 8ms/step - loss: 4.3317 - accuracy: 0.1880\n",
      "Epoch 68/100\n",
      "298/298 [==============================] - 3s 8ms/step - loss: 4.3168 - accuracy: 0.1913\n",
      "Epoch 69/100\n",
      "298/298 [==============================] - 2s 8ms/step - loss: 4.3059 - accuracy: 0.1922\n",
      "Epoch 70/100\n",
      "298/298 [==============================] - 2s 8ms/step - loss: 4.2952 - accuracy: 0.1916\n",
      "Epoch 71/100\n",
      "298/298 [==============================] - 2s 8ms/step - loss: 4.2807 - accuracy: 0.1931\n",
      "Epoch 72/100\n",
      "298/298 [==============================] - 2s 8ms/step - loss: 4.2722 - accuracy: 0.1944\n",
      "Epoch 73/100\n",
      "298/298 [==============================] - 2s 8ms/step - loss: 4.2576 - accuracy: 0.1951\n",
      "Epoch 74/100\n",
      "298/298 [==============================] - 2s 8ms/step - loss: 4.2512 - accuracy: 0.1956\n",
      "Epoch 75/100\n",
      "298/298 [==============================] - 2s 8ms/step - loss: 4.2365 - accuracy: 0.1966\n",
      "Epoch 76/100\n",
      "298/298 [==============================] - 2s 8ms/step - loss: 4.2264 - accuracy: 0.1974\n",
      "Epoch 77/100\n",
      "298/298 [==============================] - 2s 8ms/step - loss: 4.2172 - accuracy: 0.1990\n",
      "Epoch 78/100\n",
      "298/298 [==============================] - 2s 8ms/step - loss: 4.2086 - accuracy: 0.2002\n",
      "Epoch 79/100\n",
      "298/298 [==============================] - 2s 8ms/step - loss: 4.2008 - accuracy: 0.2007\n",
      "Epoch 80/100\n",
      "298/298 [==============================] - 2s 8ms/step - loss: 4.1867 - accuracy: 0.2019\n",
      "Epoch 81/100\n",
      "298/298 [==============================] - 2s 8ms/step - loss: 4.1806 - accuracy: 0.2023\n",
      "Epoch 82/100\n",
      "298/298 [==============================] - 2s 8ms/step - loss: 4.1692 - accuracy: 0.2021\n",
      "Epoch 83/100\n",
      "298/298 [==============================] - 2s 8ms/step - loss: 4.1601 - accuracy: 0.2044\n",
      "Epoch 84/100\n",
      "298/298 [==============================] - 3s 9ms/step - loss: 4.1511 - accuracy: 0.2049\n",
      "Epoch 85/100\n",
      "298/298 [==============================] - 2s 8ms/step - loss: 4.1439 - accuracy: 0.2055\n",
      "Epoch 86/100\n",
      "298/298 [==============================] - 2s 8ms/step - loss: 4.1338 - accuracy: 0.2056\n",
      "Epoch 87/100\n",
      "298/298 [==============================] - 2s 8ms/step - loss: 4.1265 - accuracy: 0.2068\n",
      "Epoch 88/100\n",
      "298/298 [==============================] - 2s 7ms/step - loss: 4.1186 - accuracy: 0.2071\n",
      "Epoch 89/100\n",
      "298/298 [==============================] - 2s 8ms/step - loss: 4.1087 - accuracy: 0.2073\n",
      "Epoch 90/100\n",
      "298/298 [==============================] - 2s 7ms/step - loss: 4.1032 - accuracy: 0.2083\n",
      "Epoch 91/100\n",
      "298/298 [==============================] - 2s 7ms/step - loss: 4.0931 - accuracy: 0.2092\n",
      "Epoch 92/100\n",
      "298/298 [==============================] - 2s 7ms/step - loss: 4.0852 - accuracy: 0.2091\n",
      "Epoch 93/100\n",
      "298/298 [==============================] - 2s 7ms/step - loss: 4.0783 - accuracy: 0.2107\n",
      "Epoch 94/100\n",
      "298/298 [==============================] - 2s 7ms/step - loss: 4.0684 - accuracy: 0.2124\n",
      "Epoch 95/100\n",
      "298/298 [==============================] - 2s 7ms/step - loss: 4.0627 - accuracy: 0.2131\n",
      "Epoch 96/100\n",
      "298/298 [==============================] - 2s 7ms/step - loss: 4.0549 - accuracy: 0.2131\n",
      "Epoch 97/100\n",
      "298/298 [==============================] - 2s 8ms/step - loss: 4.0472 - accuracy: 0.2123\n",
      "Epoch 98/100\n",
      "298/298 [==============================] - 2s 7ms/step - loss: 4.0424 - accuracy: 0.2120\n",
      "Epoch 99/100\n",
      "298/298 [==============================] - 2s 8ms/step - loss: 4.0371 - accuracy: 0.2129\n",
      "Epoch 100/100\n",
      "298/298 [==============================] - 2s 7ms/step - loss: 4.0310 - accuracy: 0.2158\n"
     ]
    },
    {
     "name": "stderr",
     "output_type": "stream",
     "text": [
      "WARNING:absl:Found untraced functions such as _update_step_xla, lstm_cell_layer_call_fn, lstm_cell_layer_call_and_return_conditional_losses, lstm_cell_1_layer_call_fn, lstm_cell_1_layer_call_and_return_conditional_losses while saving (showing 5 of 5). These functions will not be directly callable after loading.\n"
     ]
    },
    {
     "name": "stdout",
     "output_type": "stream",
     "text": [
      "INFO:tensorflow:Assets written to: /Users/tilmankerl/Documents/UNI/01_WS22/Machine Learning/exercises/03/src/_objects/lstm.nextword.model/assets\n"
     ]
    },
    {
     "name": "stderr",
     "output_type": "stream",
     "text": [
      "INFO:tensorflow:Assets written to: /Users/tilmankerl/Documents/UNI/01_WS22/Machine Learning/exercises/03/src/_objects/lstm.nextword.model/assets\n"
     ]
    }
   ],
   "source": [
    "model.train(X_train, y_train)"
   ]
  },
  {
   "attachments": {},
   "cell_type": "markdown",
   "metadata": {},
   "source": [
    "### Model Evaluation"
   ]
  },
  {
   "cell_type": "code",
   "execution_count": 7,
   "metadata": {},
   "outputs": [],
   "source": [
    "ev = Evaluator(model)"
   ]
  },
  {
   "cell_type": "code",
   "execution_count": 8,
   "metadata": {},
   "outputs": [
    {
     "name": "stdout",
     "output_type": "stream",
     "text": [
      "Pair(true=39, pred=array([0., 0., 0., ..., 0., 0., 0.], dtype=float32))\n",
      "39\n"
     ]
    }
   ],
   "source": [
    "ev.evaluate_lemma(X_test, y_test)"
   ]
  }
 ],
 "metadata": {
  "kernelspec": {
   "display_name": "env",
   "language": "python",
   "name": "python3"
  },
  "language_info": {
   "codemirror_mode": {
    "name": "ipython",
    "version": 3
   },
   "file_extension": ".py",
   "mimetype": "text/x-python",
   "name": "python",
   "nbconvert_exporter": "python",
   "pygments_lexer": "ipython3",
   "version": "3.9.12 (main, Jun  1 2022, 06:34:44) \n[Clang 12.0.0 ]"
  },
  "orig_nbformat": 4,
  "vscode": {
   "interpreter": {
    "hash": "1c4f0f78180100c56e0ffdb0dcd34560ec9f7f0e4e316e6c60bad5e296d6075d"
   }
  }
 },
 "nbformat": 4,
 "nbformat_minor": 2
}
