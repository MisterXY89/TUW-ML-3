{
 "cells": [
  {
   "attachments": {},
   "cell_type": "markdown",
   "metadata": {},
   "source": [
    "# ML: Assignment 3"
   ]
  },
  {
   "attachments": {},
   "cell_type": "markdown",
   "metadata": {},
   "source": [
    "## Libraries"
   ]
  },
  {
   "attachments": {},
   "cell_type": "markdown",
   "metadata": {},
   "source": [
    "Please use the respective `requirements_*.txt` file.\n",
    "In case of errors install here."
   ]
  },
  {
   "attachments": {},
   "cell_type": "markdown",
   "metadata": {},
   "source": [
    "### Installs & External"
   ]
  },
  {
   "cell_type": "code",
   "execution_count": 1,
   "metadata": {},
   "outputs": [],
   "source": [
    "# !pip install tensorflow-macos nltk"
   ]
  },
  {
   "attachments": {},
   "cell_type": "markdown",
   "metadata": {},
   "source": [
    "### Imports"
   ]
  },
  {
   "cell_type": "code",
   "execution_count": 2,
   "metadata": {},
   "outputs": [],
   "source": [
    "import tensorflow as tf\n",
    "\n",
    "import pandas as pd\n",
    "\n",
    "import matplotlib\n",
    "import matplotlib.pyplot as plt"
   ]
  },
  {
   "cell_type": "code",
   "execution_count": 3,
   "metadata": {},
   "outputs": [
    {
     "name": "stderr",
     "output_type": "stream",
     "text": [
      "/Users/tilmankerl/Documents/UNI/01_WS22/Machine Learning/exercises/03/env/lib/python3.9/site-packages/tqdm/auto.py:22: TqdmWarning: IProgress not found. Please update jupyter and ipywidgets. See https://ipywidgets.readthedocs.io/en/stable/user_install.html\n",
      "  from .autonotebook import tqdm as notebook_tqdm\n",
      "[nltk_data] Downloading package wordnet to\n",
      "[nltk_data]     /Users/tilmankerl/nltk_data...\n",
      "[nltk_data]   Package wordnet is already up-to-date!\n"
     ]
    }
   ],
   "source": [
    "from src.data_loading import DataLoader\n",
    "from src.data_processing import Process\n",
    "\n",
    "from src.next_word_model import NextWordModel\n",
    "\n",
    "from src.prediction_evaluation import Evaluator"
   ]
  },
  {
   "attachments": {},
   "cell_type": "markdown",
   "metadata": {},
   "source": [
    "## Pipeline: Run to reproduce results"
   ]
  },
  {
   "cell_type": "code",
   "execution_count": 4,
   "metadata": {},
   "outputs": [],
   "source": [
    "model_name = \"lstm.nextword.model\""
   ]
  },
  {
   "attachments": {},
   "cell_type": "markdown",
   "metadata": {},
   "source": [
    "### Data Loading & Processing"
   ]
  },
  {
   "cell_type": "code",
   "execution_count": 5,
   "metadata": {},
   "outputs": [
    {
     "name": "stdout",
     "output_type": "stream",
     "text": [
      "tokenizer.lstm.nextword.model\n"
     ]
    }
   ],
   "source": [
    "dl = DataLoader()\n",
    "process = Process(\n",
    "    dl,\n",
    "    sample_factor = 0.95,\n",
    "    model_name = model_name\n",
    ")"
   ]
  },
  {
   "cell_type": "code",
   "execution_count": 6,
   "metadata": {},
   "outputs": [
    {
     "name": "stdout",
     "output_type": "stream",
     "text": [
      "[Errno 2] No such file or directory: '/Users/tilmankerl/Documents/UNI/01_WS22/Machine Learning/exercises/03/src/_objects/data.pkl'\n",
      "No preprocessed file to load - <force> will be ignored.\n"
     ]
    },
    {
     "name": "stderr",
     "output_type": "stream",
     "text": [
      "/Users/tilmankerl/Documents/UNI/01_WS22/Machine Learning/exercises/03/src/data_processing.py:39: UserWarning: This pattern is interpreted as a regular expression, and has match groups. To actually get the groups, use str.extract.\n",
      "  df[\"hasLink\"] = df.text.str.contains(url_regex)\n"
     ]
    }
   ],
   "source": [
    "X_train, X_test, y_train, y_test = process.process()"
   ]
  },
  {
   "attachments": {},
   "cell_type": "markdown",
   "metadata": {},
   "source": [
    "### Model Init & Training"
   ]
  },
  {
   "attachments": {},
   "cell_type": "markdown",
   "metadata": {},
   "source": [
    "Initialize the model and train (remove comment if you want to train a new model or follow the steps outlined in the README)."
   ]
  },
  {
   "cell_type": "code",
   "execution_count": 7,
   "metadata": {},
   "outputs": [
    {
     "name": "stdout",
     "output_type": "stream",
     "text": [
      "Loading existing model (model name = lstm.nextword.model) successful!\n"
     ]
    }
   ],
   "source": [
    "model = NextWordModel(\n",
    "    processor=process,\n",
    "    load_existing=True,\n",
    "    model_name = model_name\n",
    ")"
   ]
  },
  {
   "cell_type": "code",
   "execution_count": 8,
   "metadata": {},
   "outputs": [],
   "source": [
    "#model.train(X_train, y_train, epochs = 100)"
   ]
  },
  {
   "attachments": {},
   "cell_type": "markdown",
   "metadata": {},
   "source": [
    "Export the model architecture as a graph:"
   ]
  },
  {
   "cell_type": "code",
   "execution_count": 9,
   "metadata": {},
   "outputs": [],
   "source": [
    "tf.keras.utils.plot_model(\n",
    "    model.model,\n",
    "    to_file=\"images/model_architecture.pdf\",\n",
    "    show_shapes=False,\n",
    "    show_dtype=False,\n",
    "    show_layer_names=True,\n",
    "    rankdir=\"TB\",\n",
    "    expand_nested=False,\n",
    "    dpi=96,\n",
    "    layer_range=None,\n",
    "    show_layer_activations=True,\n",
    ")\n"
   ]
  },
  {
   "attachments": {},
   "cell_type": "markdown",
   "metadata": {},
   "source": [
    "### Model Evaluation"
   ]
  },
  {
   "attachments": {},
   "cell_type": "markdown",
   "metadata": {},
   "source": [
    "We start of with some hand-picked word to get an idea of the model:"
   ]
  },
  {
   "cell_type": "code",
   "execution_count": 10,
   "metadata": {},
   "outputs": [
    {
     "name": "stderr",
     "output_type": "stream",
     "text": [
      "2023-02-25 17:57:34.690551: W tensorflow/tsl/platform/profile_utils/cpu_utils.cc:128] Failed to get CPU frequency: 0 Hz\n"
     ]
    },
    {
     "name": "stdout",
     "output_type": "stream",
     "text": [
      "for\n",
      "by\n",
      "and\n",
      "great\n"
     ]
    }
   ],
   "source": [
    "pred = model.predict(\"republicans\")\n",
    "print(pred)\n",
    "\n",
    "pred = model.predict(\"democrats\")\n",
    "print(pred)\n",
    "\n",
    "pred = model.predict(\"media\")\n",
    "print(pred)\n",
    "\n",
    "pred = model.predict(\"america\")\n",
    "print(pred)"
   ]
  },
  {
   "attachments": {},
   "cell_type": "markdown",
   "metadata": {},
   "source": [
    "Initializing the Evaluator class:"
   ]
  },
  {
   "cell_type": "code",
   "execution_count": 11,
   "metadata": {},
   "outputs": [],
   "source": [
    "ev = Evaluator(model)"
   ]
  },
  {
   "attachments": {},
   "cell_type": "markdown",
   "metadata": {},
   "source": [
    "Testing on a smaller subset if you run into runtime problems:"
   ]
  },
  {
   "cell_type": "code",
   "execution_count": 12,
   "metadata": {},
   "outputs": [],
   "source": [
    "# X_test = X_test[0:2500]\n",
    "# y_test = y_test[0:2500]"
   ]
  },
  {
   "attachments": {},
   "cell_type": "markdown",
   "metadata": {},
   "source": [
    "#### Evaluate on the different metrics"
   ]
  },
  {
   "cell_type": "code",
   "execution_count": 13,
   "metadata": {},
   "outputs": [
    {
     "name": "stdout",
     "output_type": "stream",
     "text": [
      "Accuracy: 1.99%\n"
     ]
    },
    {
     "data": {
      "text/plain": [
       "1.99"
      ]
     },
     "execution_count": 13,
     "metadata": {},
     "output_type": "execute_result"
    }
   ],
   "source": [
    "ev.evaluate(X_test, y_test, eval_type=\"id\")"
   ]
  },
  {
   "cell_type": "code",
   "execution_count": 14,
   "metadata": {},
   "outputs": [
    {
     "name": "stdout",
     "output_type": "stream",
     "text": [
      "Accuracy: 2.0%\n"
     ]
    },
    {
     "data": {
      "text/plain": [
       "2.0"
      ]
     },
     "execution_count": 14,
     "metadata": {},
     "output_type": "execute_result"
    }
   ],
   "source": [
    "ev.evaluate(X_test, y_test, eval_type=\"lemma\")"
   ]
  },
  {
   "cell_type": "code",
   "execution_count": 15,
   "metadata": {},
   "outputs": [
    {
     "name": "stdout",
     "output_type": "stream",
     "text": [
      "Accuracy: 20.71%\n"
     ]
    }
   ],
   "source": [
    "acc, scores = ev.evaluate(X_test, y_test, eval_type=\"embedding\")"
   ]
  },
  {
   "attachments": {},
   "cell_type": "markdown",
   "metadata": {},
   "source": [
    "#### Investigation of threshold impact for embeddinds metric"
   ]
  },
  {
   "cell_type": "code",
   "execution_count": 16,
   "metadata": {},
   "outputs": [
    {
     "data": {
      "image/png": "[encoded data removed]",
      "text/plain": [
       "<Figure size 640x480 with 1 Axes>"
      ]
     },
     "metadata": {},
     "output_type": "display_data"
    }
   ],
   "source": [
    "with plt.style.context(\"seaborn-whitegrid\"):\n",
    "    _, ax = plt.subplots()\n",
    "    ax.hist(x=list(scores),\n",
    "            bins=200,\n",
    "            density=.5,\n",
    "            alpha=.7,\n",
    "            color=\"black\")\n",
    "    ax.set_xlabel(\"Similarity scores\")\n",
    "    ax.set_ylabel(\"Frequency\")\n",
    "    ax.set_title(\"Distribution of similarity scores\")\n",
    "    plt.savefig(\"images/sim_scores_distr.pdf\")\n",
    "    plt.show()"
   ]
  },
  {
   "cell_type": "code",
   "execution_count": 17,
   "metadata": {},
   "outputs": [
    {
     "name": "stdout",
     "output_type": "stream",
     "text": [
      "Accuracy: 98.59%\n",
      "Accuracy: 92.76%\n",
      "Accuracy: 79.43%\n",
      "Accuracy: 59.97%\n",
      "Accuracy: 38.0%\n",
      "Accuracy: 20.71%\n",
      "Accuracy: 7.88%\n",
      "Accuracy: 2.63%\n"
     ]
    }
   ],
   "source": [
    "acc_list = []\n",
    "\n",
    "for threshold in range(2, 10, 1):\n",
    "    t = threshold/10\n",
    "    acc, scores = ev.evaluate(X_test, y_test, eval_type=\"embedding\", threshold=t)\n",
    "    acc_list.append({\n",
    "        \"accuracy\": acc,\n",
    "        \"threshold\": t\n",
    "    })"
   ]
  },
  {
   "cell_type": "code",
   "execution_count": 18,
   "metadata": {},
   "outputs": [
    {
     "data": {
      "image/png": "[encoded data removed]",
      "text/plain": [
       "<Figure size 640x480 with 1 Axes>"
      ]
     },
     "metadata": {},
     "output_type": "display_data"
    }
   ],
   "source": [
    "acc_emb_df = pd.DataFrame(acc_list)\n",
    "with plt.style.context(\"seaborn-whitegrid\"):\n",
    "    _, ax = plt.subplots()\n",
    "    acc_emb_df.plot(\n",
    "        x = \"threshold\",\n",
    "        y = \"accuracy\",\n",
    "        ax=ax,\n",
    "        legend=None,\n",
    "        color=\"black\"\n",
    "    )\n",
    "    ax.set_xlabel(\"Threshold\")\n",
    "    ax.set_ylabel(\"Accuracy\")\n",
    "    ax.set_title(\"\")\n",
    "    plt.savefig('images/embedding_threshold.pdf')\n",
    "    plt.show()"
   ]
  }
 ],
 "metadata": {
  "kernelspec": {
   "display_name": "machine_learning",
   "language": "python",
   "name": "python3"
  },
  "language_info": {
   "codemirror_mode": {
    "name": "ipython",
    "version": 3
   },
   "file_extension": ".py",
   "mimetype": "text/x-python",
   "name": "python",
   "nbconvert_exporter": "python",
   "pygments_lexer": "ipython3",
   "version": "3.9.12"
  },
  "orig_nbformat": 4,
  "vscode": {
   "interpreter": {
    "hash": "bc760d4dac02817f3f8782f114fda03f0edb01a1df180aeee05c3f952a185bd6"
   }
  }
 },
 "nbformat": 4,
 "nbformat_minor": 2
}
