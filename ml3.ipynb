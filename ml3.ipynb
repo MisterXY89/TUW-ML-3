{
 "cells": [
  {
   "attachments": {},
   "cell_type": "markdown",
   "metadata": {},
   "source": [
    "# ML: Assignment 3"
   ]
  },
  {
   "attachments": {},
   "cell_type": "markdown",
   "metadata": {},
   "source": [
    "## Libraries"
   ]
  },
  {
   "attachments": {},
   "cell_type": "markdown",
   "metadata": {},
   "source": [
    "### Installs & External"
   ]
  },
  {
   "cell_type": "code",
   "execution_count": 1,
   "metadata": {},
   "outputs": [],
   "source": [
    "# !pip install tensorflow-macos nltk"
   ]
  },
  {
   "attachments": {},
   "cell_type": "markdown",
   "metadata": {},
   "source": [
    "### Imports"
   ]
  },
  {
   "cell_type": "code",
   "execution_count": 2,
   "metadata": {},
   "outputs": [],
   "source": [
    "import pandas as pd\n",
    "\n",
    "import matplotlib\n",
    "import matplotlib.pyplot as plt"
   ]
  },
  {
   "cell_type": "code",
   "execution_count": 3,
   "metadata": {},
   "outputs": [
    {
     "name": "stderr",
     "output_type": "stream",
     "text": [
      "/Users/tilmankerl/Documents/UNI/01_WS22/Machine Learning/exercises/03/env/lib/python3.9/site-packages/tqdm/auto.py:22: TqdmWarning: IProgress not found. Please update jupyter and ipywidgets. See https://ipywidgets.readthedocs.io/en/stable/user_install.html\n",
      "  from .autonotebook import tqdm as notebook_tqdm\n",
      "[nltk_data] Downloading package wordnet to\n",
      "[nltk_data]     /Users/tilmankerl/nltk_data...\n",
      "[nltk_data]   Package wordnet is already up-to-date!\n"
     ]
    }
   ],
   "source": [
    "from src.data_loading import DataLoader\n",
    "from src.data_processing import Process\n",
    "\n",
    "from src.next_word_model import NextWordModel\n",
    "\n",
    "from src.prediction_evaluation import Evaluator"
   ]
  },
  {
   "attachments": {},
   "cell_type": "markdown",
   "metadata": {},
   "source": [
    "## Pipeline"
   ]
  },
  {
   "attachments": {},
   "cell_type": "markdown",
   "metadata": {},
   "source": [
    "### Data Loading & Processing"
   ]
  },
  {
   "cell_type": "code",
   "execution_count": 4,
   "metadata": {},
   "outputs": [],
   "source": [
    "dl = DataLoader()\n",
    "process = Process(\n",
    "    dl,\n",
    "    sample_factor = 0.95\n",
    ")"
   ]
  },
  {
   "cell_type": "code",
   "execution_count": 5,
   "metadata": {},
   "outputs": [
    {
     "name": "stderr",
     "output_type": "stream",
     "text": [
      "/Users/tilmankerl/Documents/UNI/01_WS22/Machine Learning/exercises/03/src/data_processing.py:36: UserWarning: This pattern is interpreted as a regular expression, and has match groups. To actually get the groups, use str.extract.\n",
      "  df[\"hasLink\"] = df.text.str.contains(url_regex)\n"
     ]
    }
   ],
   "source": [
    "X_train, X_test, y_train, y_test = process.process(force = True)"
   ]
  },
  {
   "attachments": {},
   "cell_type": "markdown",
   "metadata": {},
   "source": [
    "### Model Init & Training"
   ]
  },
  {
   "cell_type": "code",
   "execution_count": 6,
   "metadata": {},
   "outputs": [
    {
     "name": "stdout",
     "output_type": "stream",
     "text": [
      "Loading existing model failed:\n",
      "No file or directory found at /Users/tilmankerl/Documents/UNI/01_WS22/Machine Learning/exercises/03/src/_objects/lstm.nextword.model\n",
      "(15176,)\n",
      "Model: \"sequential\"\n",
      "_________________________________________________________________\n",
      " Layer (type)                Output Shape              Param #   \n",
      "=================================================================\n",
      " embedding (Embedding)       (None, 1, 10)             151760    \n",
      "                                                                 \n",
      " lstm (LSTM)                 (None, 1, 100)            44400     \n",
      "                                                                 \n",
      " lstm_1 (LSTM)               (None, 100)               80400     \n",
      "                                                                 \n",
      " dense (Dense)               (None, 100)               10100     \n",
      "                                                                 \n",
      " dense_1 (Dense)             (None, 15176)             1532776   \n",
      "                                                                 \n",
      "=================================================================\n",
      "Total params: 1,819,436\n",
      "Trainable params: 1,819,436\n",
      "Non-trainable params: 0\n",
      "_________________________________________________________________\n",
      "None\n"
     ]
    }
   ],
   "source": [
    "model = NextWordModel(\n",
    "    processor=process,\n",
    "    load_existing=True\n",
    ")"
   ]
  },
  {
   "cell_type": "code",
   "execution_count": 7,
   "metadata": {},
   "outputs": [
    {
     "name": "stdout",
     "output_type": "stream",
     "text": [
      "Epoch 1/100\n"
     ]
    },
    {
     "name": "stderr",
     "output_type": "stream",
     "text": [
      "2023-02-25 00:37:34.304767: W tensorflow/tsl/platform/profile_utils/cpu_utils.cc:128] Failed to get CPU frequency: 0 Hz\n"
     ]
    },
    {
     "name": "stdout",
     "output_type": "stream",
     "text": [
      "3356/3356 [==============================] - 61s 18ms/step - loss: 6.5664 - accuracy: 0.0584\n",
      "Epoch 2/100\n",
      "3356/3356 [==============================] - 58s 17ms/step - loss: 6.1968 - accuracy: 0.0848\n",
      "Epoch 3/100\n",
      "3356/3356 [==============================] - 58s 17ms/step - loss: 5.9336 - accuracy: 0.1115\n",
      "Epoch 4/100\n",
      "3356/3356 [==============================] - 57s 17ms/step - loss: 5.7665 - accuracy: 0.1266\n",
      "Epoch 5/100\n",
      "3356/3356 [==============================] - 57s 17ms/step - loss: 5.6248 - accuracy: 0.1378\n",
      "Epoch 6/100\n",
      "3356/3356 [==============================] - 58s 17ms/step - loss: 5.5083 - accuracy: 0.1447\n",
      "Epoch 7/100\n",
      "3356/3356 [==============================] - 58s 17ms/step - loss: 5.4182 - accuracy: 0.1491\n",
      "Epoch 8/100\n",
      "3356/3356 [==============================] - 58s 17ms/step - loss: 5.3452 - accuracy: 0.1516\n",
      "Epoch 9/100\n",
      "3356/3356 [==============================] - 57s 17ms/step - loss: 5.2854 - accuracy: 0.1546\n",
      "Epoch 10/100\n",
      "3356/3356 [==============================] - 57s 17ms/step - loss: 5.2355 - accuracy: 0.1567\n",
      "Epoch 11/100\n",
      "3356/3356 [==============================] - 57s 17ms/step - loss: 5.1941 - accuracy: 0.1584\n",
      "Epoch 12/100\n",
      "3356/3356 [==============================] - 58s 17ms/step - loss: 5.1586 - accuracy: 0.1600\n",
      "Epoch 13/100\n",
      "3356/3356 [==============================] - 58s 17ms/step - loss: 5.1279 - accuracy: 0.1612\n",
      "Epoch 14/100\n",
      "3356/3356 [==============================] - 57s 17ms/step - loss: 5.1008 - accuracy: 0.1620\n",
      "Epoch 15/100\n",
      "3356/3356 [==============================] - 57s 17ms/step - loss: 5.0760 - accuracy: 0.1633\n",
      "Epoch 16/100\n",
      "3356/3356 [==============================] - 57s 17ms/step - loss: 5.0531 - accuracy: 0.1640\n",
      "Epoch 17/100\n",
      "3356/3356 [==============================] - 58s 17ms/step - loss: 5.0318 - accuracy: 0.1650\n",
      "Epoch 18/100\n",
      "3356/3356 [==============================] - 59s 17ms/step - loss: 5.0125 - accuracy: 0.1658\n",
      "Epoch 19/100\n",
      "3356/3356 [==============================] - 4119s 1s/step - loss: 4.9939 - accuracy: 0.1666\n",
      "Epoch 20/100\n",
      "3356/3356 [==============================] - 4182s 1s/step - loss: 4.9771 - accuracy: 0.1672\n",
      "Epoch 21/100\n",
      "3356/3356 [==============================] - 7896s 2s/step - loss: 4.9606 - accuracy: 0.1681\n",
      "Epoch 22/100\n",
      "3356/3356 [==============================] - 8023s 2s/step - loss: 4.9457 - accuracy: 0.1686\n",
      "Epoch 23/100\n",
      "3356/3356 [==============================] - 4895s 1s/step - loss: 4.9316 - accuracy: 0.1692\n",
      "Epoch 24/100\n",
      "3356/3356 [==============================] - 5411s 2s/step - loss: 4.9183 - accuracy: 0.1697\n",
      "Epoch 25/100\n",
      "3356/3356 [==============================] - 3282s 978ms/step - loss: 4.9066 - accuracy: 0.1700\n",
      "Epoch 26/100\n",
      "3356/3356 [==============================] - 352s 105ms/step - loss: 4.8939 - accuracy: 0.1710\n",
      "Epoch 27/100\n",
      "3356/3356 [==============================] - 61s 18ms/step - loss: 4.8832 - accuracy: 0.1711\n",
      "Epoch 28/100\n",
      "3356/3356 [==============================] - 61s 18ms/step - loss: 4.8728 - accuracy: 0.1714\n",
      "Epoch 29/100\n",
      "3356/3356 [==============================] - 61s 18ms/step - loss: 4.8631 - accuracy: 0.1717\n",
      "Epoch 30/100\n",
      "3356/3356 [==============================] - 61s 18ms/step - loss: 4.8537 - accuracy: 0.1722\n",
      "Epoch 31/100\n",
      "3356/3356 [==============================] - 60s 18ms/step - loss: 4.8450 - accuracy: 0.1727\n",
      "Epoch 32/100\n",
      "3356/3356 [==============================] - 60s 18ms/step - loss: 4.8363 - accuracy: 0.1730\n",
      "Epoch 33/100\n",
      "3356/3356 [==============================] - 58s 17ms/step - loss: 4.8285 - accuracy: 0.1734\n",
      "Epoch 34/100\n",
      "3356/3356 [==============================] - 59s 18ms/step - loss: 4.8204 - accuracy: 0.1737\n",
      "Epoch 35/100\n",
      "3356/3356 [==============================] - 62s 19ms/step - loss: 4.8134 - accuracy: 0.1740\n",
      "Epoch 36/100\n",
      "3356/3356 [==============================] - 63s 19ms/step - loss: 4.8068 - accuracy: 0.1746\n",
      "Epoch 37/100\n",
      "3356/3356 [==============================] - 61s 18ms/step - loss: 4.7995 - accuracy: 0.1746\n",
      "Epoch 38/100\n",
      "3356/3356 [==============================] - 62s 19ms/step - loss: 4.7934 - accuracy: 0.1749\n",
      "Epoch 39/100\n",
      "3356/3356 [==============================] - 63s 19ms/step - loss: 4.7876 - accuracy: 0.1752\n",
      "Epoch 40/100\n",
      "3356/3356 [==============================] - 62s 18ms/step - loss: 4.7816 - accuracy: 0.1755\n",
      "Epoch 41/100\n",
      "3356/3356 [==============================] - 64s 19ms/step - loss: 4.7765 - accuracy: 0.1757\n",
      "Epoch 42/100\n",
      "3356/3356 [==============================] - 66s 20ms/step - loss: 4.7710 - accuracy: 0.1756\n",
      "Epoch 43/100\n",
      "3356/3356 [==============================] - 68s 20ms/step - loss: 4.7661 - accuracy: 0.1760\n",
      "Epoch 44/100\n",
      "3356/3356 [==============================] - 66s 20ms/step - loss: 4.7613 - accuracy: 0.1764\n",
      "Epoch 45/100\n",
      "3356/3356 [==============================] - 66s 20ms/step - loss: 4.7569 - accuracy: 0.1765\n",
      "Epoch 46/100\n",
      "3356/3356 [==============================] - 69s 21ms/step - loss: 4.7525 - accuracy: 0.1766\n",
      "Epoch 47/100\n",
      "3356/3356 [==============================] - 67s 20ms/step - loss: 4.7483 - accuracy: 0.1766\n",
      "Epoch 48/100\n",
      "3356/3356 [==============================] - 66s 20ms/step - loss: 4.7440 - accuracy: 0.1774\n",
      "Epoch 49/100\n",
      "3356/3356 [==============================] - 77s 23ms/step - loss: 4.7413 - accuracy: 0.1773\n",
      "Epoch 50/100\n",
      "3356/3356 [==============================] - 71s 21ms/step - loss: 4.7366 - accuracy: 0.1775\n",
      "Epoch 51/100\n",
      "3356/3356 [==============================] - 70s 21ms/step - loss: 4.7329 - accuracy: 0.1776\n",
      "Epoch 52/100\n",
      "3356/3356 [==============================] - 73s 22ms/step - loss: 4.7299 - accuracy: 0.1776\n",
      "Epoch 53/100\n",
      "3356/3356 [==============================] - 69s 20ms/step - loss: 4.7270 - accuracy: 0.1778\n",
      "Epoch 54/100\n",
      "3356/3356 [==============================] - 73s 22ms/step - loss: 4.7237 - accuracy: 0.1775\n",
      "Epoch 55/100\n",
      "3356/3356 [==============================] - 72s 21ms/step - loss: 4.7197 - accuracy: 0.1781\n",
      "Epoch 56/100\n",
      "3356/3356 [==============================] - 69s 21ms/step - loss: 4.7173 - accuracy: 0.1780\n",
      "Epoch 57/100\n",
      "3356/3356 [==============================] - 70s 21ms/step - loss: 4.7141 - accuracy: 0.1781\n",
      "Epoch 58/100\n",
      "3356/3356 [==============================] - 72s 21ms/step - loss: 4.7113 - accuracy: 0.1784\n",
      "Epoch 59/100\n",
      "3356/3356 [==============================] - 73s 22ms/step - loss: 4.7089 - accuracy: 0.1784\n",
      "Epoch 60/100\n",
      "3356/3356 [==============================] - 74s 22ms/step - loss: 4.7063 - accuracy: 0.1784\n",
      "Epoch 61/100\n",
      "3356/3356 [==============================] - 72s 21ms/step - loss: 4.7038 - accuracy: 0.1788\n",
      "Epoch 62/100\n",
      "3356/3356 [==============================] - 72s 21ms/step - loss: 4.7017 - accuracy: 0.1788\n",
      "Epoch 63/100\n",
      "3356/3356 [==============================] - 71s 21ms/step - loss: 4.6988 - accuracy: 0.1789\n",
      "Epoch 64/100\n",
      "3356/3356 [==============================] - 71s 21ms/step - loss: 4.6962 - accuracy: 0.1789\n",
      "Epoch 65/100\n",
      "3356/3356 [==============================] - 73s 22ms/step - loss: 4.6940 - accuracy: 0.1791\n",
      "Epoch 66/100\n",
      "3356/3356 [==============================] - 71s 21ms/step - loss: 4.6921 - accuracy: 0.1789\n",
      "Epoch 67/100\n",
      "3356/3356 [==============================] - 72s 21ms/step - loss: 4.6896 - accuracy: 0.1788\n",
      "Epoch 68/100\n",
      "3356/3356 [==============================] - 74s 22ms/step - loss: 4.6879 - accuracy: 0.1790\n",
      "Epoch 69/100\n",
      "3356/3356 [==============================] - 82s 24ms/step - loss: 4.6860 - accuracy: 0.1791\n",
      "Epoch 70/100\n",
      "3356/3356 [==============================] - 83s 25ms/step - loss: 4.6845 - accuracy: 0.1789\n",
      "Epoch 71/100\n",
      "3356/3356 [==============================] - 77s 23ms/step - loss: 4.6827 - accuracy: 0.1792\n",
      "Epoch 72/100\n",
      "3356/3356 [==============================] - 71s 21ms/step - loss: 4.6802 - accuracy: 0.1794\n",
      "Epoch 73/100\n",
      "3356/3356 [==============================] - 75s 22ms/step - loss: 4.6786 - accuracy: 0.1795\n",
      "Epoch 74/100\n",
      "3356/3356 [==============================] - 72s 21ms/step - loss: 4.6768 - accuracy: 0.1793\n",
      "Epoch 75/100\n",
      "3356/3356 [==============================] - 69s 21ms/step - loss: 4.6759 - accuracy: 0.1795\n",
      "Epoch 76/100\n",
      "3356/3356 [==============================] - 71s 21ms/step - loss: 4.6734 - accuracy: 0.1795\n",
      "Epoch 77/100\n",
      "3356/3356 [==============================] - 74s 22ms/step - loss: 4.6721 - accuracy: 0.1798\n",
      "Epoch 78/100\n",
      "3356/3356 [==============================] - 75s 22ms/step - loss: 4.6709 - accuracy: 0.1795\n",
      "Epoch 79/100\n",
      "3356/3356 [==============================] - 75s 22ms/step - loss: 4.6690 - accuracy: 0.1800\n",
      "Epoch 80/100\n",
      "3356/3356 [==============================] - 75s 22ms/step - loss: 4.6682 - accuracy: 0.1798\n",
      "Epoch 81/100\n",
      "3356/3356 [==============================] - 76s 23ms/step - loss: 4.6662 - accuracy: 0.1797\n",
      "Epoch 82/100\n",
      "3356/3356 [==============================] - 80s 24ms/step - loss: 4.6652 - accuracy: 0.1798\n",
      "Epoch 83/100\n",
      "3356/3356 [==============================] - 76s 23ms/step - loss: 4.6640 - accuracy: 0.1795\n",
      "Epoch 84/100\n",
      "3356/3356 [==============================] - 75s 22ms/step - loss: 4.6625 - accuracy: 0.1799\n",
      "Epoch 85/100\n",
      "3356/3356 [==============================] - 77s 23ms/step - loss: 4.6611 - accuracy: 0.1801\n",
      "Epoch 86/100\n",
      "3356/3356 [==============================] - 78s 23ms/step - loss: 4.6600 - accuracy: 0.1801\n",
      "Epoch 87/100\n",
      "3356/3356 [==============================] - 77s 23ms/step - loss: 4.6586 - accuracy: 0.1801\n",
      "Epoch 88/100\n",
      "3356/3356 [==============================] - 74s 22ms/step - loss: 4.6576 - accuracy: 0.1798\n",
      "Epoch 89/100\n",
      "3356/3356 [==============================] - 72s 21ms/step - loss: 4.6565 - accuracy: 0.1800\n",
      "Epoch 90/100\n",
      "3356/3356 [==============================] - 73s 22ms/step - loss: 4.6552 - accuracy: 0.1803\n",
      "Epoch 91/100\n",
      "3356/3356 [==============================] - 73s 22ms/step - loss: 4.6543 - accuracy: 0.1802\n",
      "Epoch 92/100\n",
      "3356/3356 [==============================] - 72s 22ms/step - loss: 4.6529 - accuracy: 0.1804\n",
      "Epoch 93/100\n",
      "3356/3356 [==============================] - 74s 22ms/step - loss: 4.6519 - accuracy: 0.1800\n",
      "Epoch 94/100\n",
      "3356/3356 [==============================] - 74s 22ms/step - loss: 4.6510 - accuracy: 0.1803\n",
      "Epoch 95/100\n",
      "3356/3356 [==============================] - 72s 22ms/step - loss: 4.6501 - accuracy: 0.1804\n",
      "Epoch 96/100\n",
      "3356/3356 [==============================] - 75s 22ms/step - loss: 4.6490 - accuracy: 0.1800\n",
      "Epoch 97/100\n",
      "3356/3356 [==============================] - 85s 25ms/step - loss: 4.6482 - accuracy: 0.1801\n",
      "Epoch 98/100\n",
      "3356/3356 [==============================] - 88s 26ms/step - loss: 4.6471 - accuracy: 0.1805\n",
      "Epoch 99/100\n",
      "3356/3356 [==============================] - 83s 25ms/step - loss: 4.6465 - accuracy: 0.1804\n",
      "Epoch 100/100\n",
      "3356/3356 [==============================] - 82s 24ms/step - loss: 4.6451 - accuracy: 0.1805\n"
     ]
    },
    {
     "name": "stderr",
     "output_type": "stream",
     "text": [
      "WARNING:absl:Found untraced functions such as _update_step_xla, lstm_cell_layer_call_fn, lstm_cell_layer_call_and_return_conditional_losses, lstm_cell_1_layer_call_fn, lstm_cell_1_layer_call_and_return_conditional_losses while saving (showing 5 of 5). These functions will not be directly callable after loading.\n"
     ]
    },
    {
     "name": "stdout",
     "output_type": "stream",
     "text": [
      "INFO:tensorflow:Assets written to: /Users/tilmankerl/Documents/UNI/01_WS22/Machine Learning/exercises/03/src/_objects/lstm.nextword.model/assets\n"
     ]
    },
    {
     "name": "stderr",
     "output_type": "stream",
     "text": [
      "INFO:tensorflow:Assets written to: /Users/tilmankerl/Documents/UNI/01_WS22/Machine Learning/exercises/03/src/_objects/lstm.nextword.model/assets\n"
     ]
    }
   ],
   "source": [
    "model.train(X_train, y_train, epochs = 100)"
   ]
  },
  {
   "cell_type": "code",
   "execution_count": 8,
   "metadata": {},
   "outputs": [
    {
     "data": {
      "image/png": "[encoded data removed]",
      "text/plain": [
       "<IPython.core.display.Image object>"
      ]
     },
     "execution_count": 8,
     "metadata": {},
     "output_type": "execute_result"
    }
   ],
   "source": [
    "import tensorflow as tf\n",
    "\n",
    "tf.keras.utils.plot_model(\n",
    "    model.model,\n",
    "    to_file=\"model.png\",\n",
    "    show_shapes=False,\n",
    "    show_dtype=False,\n",
    "    show_layer_names=True,\n",
    "    rankdir=\"TB\",\n",
    "    expand_nested=False,\n",
    "    dpi=96,\n",
    "    layer_range=None,\n",
    "    show_layer_activations=True,\n",
    ")\n"
   ]
  },
  {
   "attachments": {},
   "cell_type": "markdown",
   "metadata": {},
   "source": [
    "### Model Evaluation"
   ]
  },
  {
   "cell_type": "code",
   "execution_count": 9,
   "metadata": {},
   "outputs": [
    {
     "name": "stdout",
     "output_type": "stream",
     "text": [
      "great\n"
     ]
    }
   ],
   "source": [
    "pred = model.predict(\"america\")\n",
    "print(pred)"
   ]
  },
  {
   "cell_type": "code",
   "execution_count": 10,
   "metadata": {},
   "outputs": [],
   "source": [
    "ev = Evaluator(model)"
   ]
  },
  {
   "cell_type": "code",
   "execution_count": 11,
   "metadata": {},
   "outputs": [
    {
     "data": {
      "text/plain": [
       "107383"
      ]
     },
     "execution_count": 11,
     "metadata": {},
     "output_type": "execute_result"
    }
   ],
   "source": [
    "len(X_test)"
   ]
  },
  {
   "cell_type": "code",
   "execution_count": 12,
   "metadata": {},
   "outputs": [],
   "source": [
    "X_test = X_test[0:2500]\n",
    "y_test = y_test[0:2500]"
   ]
  },
  {
   "cell_type": "code",
   "execution_count": 13,
   "metadata": {},
   "outputs": [
    {
     "name": "stdout",
     "output_type": "stream",
     "text": [
      "ERRORS:  0\n",
      "Accuracy: 1.76%\n"
     ]
    },
    {
     "data": {
      "text/plain": [
       "1.76"
      ]
     },
     "execution_count": 13,
     "metadata": {},
     "output_type": "execute_result"
    }
   ],
   "source": [
    "ev.evaluate(X_test, y_test, eval_type=\"id\")"
   ]
  },
  {
   "cell_type": "code",
   "execution_count": 14,
   "metadata": {},
   "outputs": [
    {
     "name": "stdout",
     "output_type": "stream",
     "text": [
      "Accuracy: 1.84%\n"
     ]
    },
    {
     "data": {
      "text/plain": [
       "1.84"
      ]
     },
     "execution_count": 14,
     "metadata": {},
     "output_type": "execute_result"
    }
   ],
   "source": [
    "ev.evaluate(X_test, y_test, eval_type=\"lemma\")"
   ]
  },
  {
   "cell_type": "code",
   "execution_count": 15,
   "metadata": {},
   "outputs": [
    {
     "name": "stdout",
     "output_type": "stream",
     "text": [
      "Accuracy: 21.12%\n"
     ]
    }
   ],
   "source": [
    "acc, scores = ev.evaluate(X_test, y_test, eval_type=\"embedding\")"
   ]
  },
  {
   "cell_type": "code",
   "execution_count": 16,
   "metadata": {},
   "outputs": [
    {
     "data": {
      "text/plain": [
       "(array([0.04436073, 0.        , 0.        , 0.        , 0.        ,\n",
       "        0.0443607 , 0.13308231, 0.        , 0.13308231, 0.13308209,\n",
       "        0.3105254 , 0.26616419, 0.13308231, 0.22180349, 0.39924694,\n",
       "        0.44360698, 0.39924628, 0.31052591, 0.93157466, 0.57668907,\n",
       "        0.75413187, 0.31052591, 1.02029605, 0.79849256, 0.62104977,\n",
       "        1.06466027, 1.50826373, 1.41954234, 1.64134583, 1.55262956,\n",
       "        1.37518164, 2.12931351, 1.90751002, 1.50826872, 1.90751002,\n",
       "        2.12931351, 1.68570653, 1.6857121 , 1.99623141, 1.68570653,\n",
       "        1.55262443, 1.81879463, 2.2623956 , 1.50826373, 1.86314932,\n",
       "        2.43983839, 1.90751002, 1.68571767, 1.99623141, 2.2623956 ,\n",
       "        3.23833096, 3.14960956, 2.1736742 , 1.77442792, 2.04059211,\n",
       "        1.81880064, 2.04059211, 2.48419909, 2.57292049, 1.64134583,\n",
       "        2.12931351, 2.3067563 , 1.24209955, 1.90752263, 1.24209955,\n",
       "        2.12931351, 1.55262443, 1.28646024, 1.50826373, 1.68570653,\n",
       "        0.97593536, 1.5082737 , 1.33082094, 1.02029605, 1.15337815,\n",
       "        1.46390304, 1.02029605, 0.57668907, 1.24209955, 0.57669289,\n",
       "        0.70977117, 0.97593536, 0.79849256, 0.48796768, 0.53232838,\n",
       "        0.53232838, 0.53232838, 0.08872198, 0.0887214 , 0.17744279,\n",
       "        0.0443607 , 0.22180349, 0.0887214 , 0.26616419, 0.0443607 ,\n",
       "        0.04436099, 0.0443607 , 0.        , 0.        , 1.95187071]),\n",
       " array([0.09830227, 0.10731925, 0.11633623, 0.12535322, 0.13437021,\n",
       "        0.14338718, 0.15240417, 0.16142115, 0.17043814, 0.17945512,\n",
       "        0.18847211, 0.19748908, 0.20650607, 0.21552305, 0.22454004,\n",
       "        0.23355702, 0.24257401, 0.251591  , 0.26060796, 0.26962495,\n",
       "        0.27864194, 0.28765893, 0.29667589, 0.30569288, 0.31470987,\n",
       "        0.32372686, 0.33274382, 0.34176081, 0.3507778 , 0.3597948 ,\n",
       "        0.36881176, 0.37782875, 0.38684574, 0.39586273, 0.40487969,\n",
       "        0.41389668, 0.42291367, 0.43193066, 0.44094762, 0.44996461,\n",
       "        0.4589816 , 0.46799859, 0.47701555, 0.48603255, 0.49504954,\n",
       "        0.50406653, 0.51308352, 0.52210051, 0.53111744, 0.54013443,\n",
       "        0.54915142, 0.55816841, 0.5671854 , 0.57620239, 0.58521938,\n",
       "        0.59423637, 0.6032533 , 0.6122703 , 0.62128729, 0.63030428,\n",
       "        0.63932127, 0.64833826, 0.65735525, 0.66637224, 0.67538917,\n",
       "        0.68440616, 0.69342315, 0.70244014, 0.71145713, 0.72047412,\n",
       "        0.72949111, 0.73850811, 0.74752504, 0.75654203, 0.76555902,\n",
       "        0.77457601, 0.783593  , 0.79260999, 0.80162698, 0.81064397,\n",
       "        0.8196609 , 0.82867789, 0.83769488, 0.84671187, 0.85572886,\n",
       "        0.86474586, 0.87376285, 0.88277984, 0.89179677, 0.90081376,\n",
       "        0.90983075, 0.91884774, 0.92786473, 0.93688172, 0.94589871,\n",
       "        0.9549157 , 0.96393263, 0.97294962, 0.98196661, 0.99098361,\n",
       "        1.0000006 ]),\n",
       " <BarContainer object of 100 artists>)"
      ]
     },
     "execution_count": 16,
     "metadata": {},
     "output_type": "execute_result"
    },
    {
     "data": {
      "image/png": "[encoded data removed]",
      "text/plain": [
       "<Figure size 640x480 with 1 Axes>"
      ]
     },
     "metadata": {},
     "output_type": "display_data"
    }
   ],
   "source": [
    "num_bins = 100\n",
    "plt.hist(\n",
    "    list(scores), \n",
    "    num_bins, \n",
    "    density = 1, \n",
    "    color ='green',\n",
    "    alpha = 0.7\n",
    ")"
   ]
  },
  {
   "cell_type": "code",
   "execution_count": 17,
   "metadata": {},
   "outputs": [
    {
     "name": "stdout",
     "output_type": "stream",
     "text": [
      "Accuracy: 99.2%\n",
      "Accuracy: 94.64%\n",
      "Accuracy: 80.76%\n",
      "Accuracy: 62.72%\n",
      "Accuracy: 40.52%\n",
      "Accuracy: 21.12%\n",
      "Accuracy: 8.56%\n",
      "Accuracy: 2.6%\n"
     ]
    }
   ],
   "source": [
    "acc_list = []\n",
    "\n",
    "for threshold in range(2, 10, 1):\n",
    "    t = threshold/10\n",
    "    acc, scores = ev.evaluate(X_test, y_test, eval_type=\"embedding\", threshold=t)\n",
    "    acc_list.append({\n",
    "        \"accuracy\": acc,\n",
    "        \"threshold\": t\n",
    "    })"
   ]
  },
  {
   "cell_type": "code",
   "execution_count": 18,
   "metadata": {},
   "outputs": [
    {
     "data": {
      "text/plain": [
       "<AxesSubplot: xlabel='threshold'>"
      ]
     },
     "execution_count": 18,
     "metadata": {},
     "output_type": "execute_result"
    },
    {
     "data": {
      "image/png": "[encoded data removed]",
      "text/plain": [
       "<Figure size 640x480 with 1 Axes>"
      ]
     },
     "metadata": {},
     "output_type": "display_data"
    }
   ],
   "source": [
    "acc_emb_df = pd.DataFrame(acc_list)\n",
    "acc_emb_df.plot(\n",
    "    x = \"threshold\",\n",
    "    y = \"accuracy\"\n",
    ")"
   ]
  }
 ],
 "metadata": {
  "kernelspec": {
   "display_name": "env",
   "language": "python",
   "name": "python3"
  },
  "language_info": {
   "codemirror_mode": {
    "name": "ipython",
    "version": 3
   },
   "file_extension": ".py",
   "mimetype": "text/x-python",
   "name": "python",
   "nbconvert_exporter": "python",
   "pygments_lexer": "ipython3",
   "version": "3.9.12"
  },
  "orig_nbformat": 4,
  "vscode": {
   "interpreter": {
    "hash": "1c4f0f78180100c56e0ffdb0dcd34560ec9f7f0e4e316e6c60bad5e296d6075d"
   }
  }
 },
 "nbformat": 4,
 "nbformat_minor": 2
}
