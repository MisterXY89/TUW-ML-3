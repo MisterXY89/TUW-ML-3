{
 "cells": [
  {
   "attachments": {},
   "cell_type": "markdown",
   "metadata": {},
   "source": [
    "# ML: Assignment 3"
   ]
  },
  {
   "attachments": {},
   "cell_type": "markdown",
   "metadata": {},
   "source": [
    "## Libraries"
   ]
  },
  {
   "attachments": {},
   "cell_type": "markdown",
   "metadata": {},
   "source": [
    "### Installs & External"
   ]
  },
  {
   "cell_type": "code",
   "execution_count": 1,
   "metadata": {},
   "outputs": [],
   "source": [
    "# !pip install tensorflow-macos nltk"
   ]
  },
  {
   "attachments": {},
   "cell_type": "markdown",
   "metadata": {},
   "source": [
    "### Imports"
   ]
  },
  {
   "cell_type": "code",
   "execution_count": 2,
   "metadata": {},
   "outputs": [],
   "source": [
    "import pandas as pd\n",
    "\n",
    "import matplotlib\n",
    "import matplotlib.pyplot as plt"
   ]
  },
  {
   "cell_type": "code",
   "execution_count": 3,
   "metadata": {},
   "outputs": [
    {
     "name": "stderr",
     "output_type": "stream",
     "text": [
      "/Users/tilmankerl/Documents/UNI/01_WS22/Machine Learning/exercises/03/env/lib/python3.9/site-packages/tqdm/auto.py:22: TqdmWarning: IProgress not found. Please update jupyter and ipywidgets. See https://ipywidgets.readthedocs.io/en/stable/user_install.html\n",
      "  from .autonotebook import tqdm as notebook_tqdm\n",
      "[nltk_data] Downloading package wordnet to\n",
      "[nltk_data]     /Users/tilmankerl/nltk_data...\n",
      "[nltk_data]   Package wordnet is already up-to-date!\n"
     ]
    }
   ],
   "source": [
    "from src.data_loading import DataLoader\n",
    "from src.data_processing import Process\n",
    "\n",
    "from src.next_word_model import NextWordModel\n",
    "\n",
    "from src.prediction_evaluation import Evaluator"
   ]
  },
  {
   "attachments": {},
   "cell_type": "markdown",
   "metadata": {},
   "source": [
    "## Pipeline"
   ]
  },
  {
   "attachments": {},
   "cell_type": "markdown",
   "metadata": {},
   "source": [
    "### Data Loading & Processing"
   ]
  },
  {
   "cell_type": "code",
   "execution_count": 4,
   "metadata": {},
   "outputs": [],
   "source": [
    "dl = DataLoader()\n",
    "process = Process(\n",
    "    dl,\n",
    "    sample_factor = 0.85\n",
    ")"
   ]
  },
  {
   "cell_type": "code",
   "execution_count": 5,
   "metadata": {},
   "outputs": [
    {
     "name": "stderr",
     "output_type": "stream",
     "text": [
      "/Users/tilmankerl/Documents/UNI/01_WS22/Machine Learning/exercises/03/src/data_processing.py:36: UserWarning: This pattern is interpreted as a regular expression, and has match groups. To actually get the groups, use str.extract.\n",
      "  df[\"hasLink\"] = df.text.str.contains(url_regex)\n"
     ]
    },
    {
     "name": "stdout",
     "output_type": "stream",
     "text": [
      "[Errno 2] No such file or directory: '/Users/tilmankerl/Documents/UNI/01_WS22/Machine Learning/exercises/03/src/_objects/data.pkl'\n",
      "No preprocessed file to load - <force> will be ignored.\n"
     ]
    }
   ],
   "source": [
    "X_train, X_test, y_train, y_test = process.process()"
   ]
  },
  {
   "attachments": {},
   "cell_type": "markdown",
   "metadata": {},
   "source": [
    "### Model Init & Training"
   ]
  },
  {
   "cell_type": "code",
   "execution_count": 6,
   "metadata": {},
   "outputs": [
    {
     "name": "stdout",
     "output_type": "stream",
     "text": [
      "Loading existing model successful!\n"
     ]
    }
   ],
   "source": [
    "model = NextWordModel(\n",
    "    processor=process,\n",
    "    load_existing=True\n",
    ")"
   ]
  },
  {
   "cell_type": "code",
   "execution_count": 7,
   "metadata": {},
   "outputs": [],
   "source": [
    "# model.train(X_train, y_train, epochs = 100)"
   ]
  },
  {
   "cell_type": "code",
   "execution_count": 8,
   "metadata": {},
   "outputs": [
    {
     "data": {
      "image/png": "[encoded data removed]",
      "text/plain": [
       "<IPython.core.display.Image object>"
      ]
     },
     "execution_count": 8,
     "metadata": {},
     "output_type": "execute_result"
    }
   ],
   "source": [
    "import tensorflow as tf\n",
    "\n",
    "tf.keras.utils.plot_model(\n",
    "    model.model,\n",
    "    to_file=\"model.png\",\n",
    "    show_shapes=False,\n",
    "    show_dtype=False,\n",
    "    show_layer_names=True,\n",
    "    rankdir=\"TB\",\n",
    "    expand_nested=False,\n",
    "    dpi=96,\n",
    "    layer_range=None,\n",
    "    show_layer_activations=True,\n",
    ")\n"
   ]
  },
  {
   "attachments": {},
   "cell_type": "markdown",
   "metadata": {},
   "source": [
    "### Model Evaluation"
   ]
  },
  {
   "cell_type": "code",
   "execution_count": 9,
   "metadata": {},
   "outputs": [
    {
     "name": "stderr",
     "output_type": "stream",
     "text": [
      "2023-02-19 15:41:17.998665: W tensorflow/tsl/platform/profile_utils/cpu_utils.cc:128] Failed to get CPU frequency: 0 Hz\n"
     ]
    },
    {
     "name": "stdout",
     "output_type": "stream",
     "text": [
      "great\n"
     ]
    }
   ],
   "source": [
    "pred = model.predict(\"america\")\n",
    "print(pred)"
   ]
  },
  {
   "cell_type": "code",
   "execution_count": 10,
   "metadata": {},
   "outputs": [],
   "source": [
    "ev = Evaluator(model)"
   ]
  },
  {
   "cell_type": "code",
   "execution_count": 11,
   "metadata": {},
   "outputs": [
    {
     "data": {
      "text/plain": [
       "12207"
      ]
     },
     "execution_count": 11,
     "metadata": {},
     "output_type": "execute_result"
    }
   ],
   "source": [
    "len(X_test)"
   ]
  },
  {
   "cell_type": "code",
   "execution_count": 12,
   "metadata": {},
   "outputs": [],
   "source": [
    "X_test = X_test[0:2500]\n",
    "y_test = y_test[0:2500]"
   ]
  },
  {
   "cell_type": "code",
   "execution_count": 13,
   "metadata": {},
   "outputs": [
    {
     "name": "stdout",
     "output_type": "stream",
     "text": [
      "ERRORS:  4415\n",
      "Accuracy: 1.37%\n"
     ]
    },
    {
     "data": {
      "text/plain": [
       "1.37"
      ]
     },
     "execution_count": 13,
     "metadata": {},
     "output_type": "execute_result"
    }
   ],
   "source": [
    "ev.evaluate(X_test, y_test, eval_type=\"id\")"
   ]
  },
  {
   "cell_type": "code",
   "execution_count": 14,
   "metadata": {},
   "outputs": [
    {
     "name": "stdout",
     "output_type": "stream",
     "text": [
      "Accuracy: 1.37%\n"
     ]
    },
    {
     "data": {
      "text/plain": [
       "1.37"
      ]
     },
     "execution_count": 14,
     "metadata": {},
     "output_type": "execute_result"
    }
   ],
   "source": [
    "ev.evaluate(X_test, y_test, eval_type=\"lemma\")"
   ]
  },
  {
   "cell_type": "code",
   "execution_count": 15,
   "metadata": {},
   "outputs": [
    {
     "name": "stdout",
     "output_type": "stream",
     "text": [
      "Accuracy: 42.17%\n"
     ]
    }
   ],
   "source": [
    "acc, scores = ev.evaluate(X_test, y_test, eval_type=\"embedding\")"
   ]
  },
  {
   "cell_type": "code",
   "execution_count": 16,
   "metadata": {},
   "outputs": [
    {
     "data": {
      "text/plain": [
       "(array([0.0178943 , 0.        , 0.        , 0.        , 0.        ,\n",
       "        0.01789429, 0.04473572, 0.00894716, 0.04473572, 0.02684143,\n",
       "        0.07157726, 0.05368286, 0.04473572, 0.12526001, 0.09841874,\n",
       "        0.14315429, 0.19683715, 0.21473179, 0.35788515, 0.259468  ,\n",
       "        0.42051574, 0.51893431, 0.51893431, 0.52788146, 0.55472289,\n",
       "        0.77840147, 0.94840028, 0.84103147, 1.08260434, 0.67998289,\n",
       "        0.97523862, 0.94839719, 1.25260006, 1.35997021, 1.3420715 ,\n",
       "        1.41364864, 1.72679866, 1.92363581, 1.61943294, 1.61943294,\n",
       "        1.72680428, 1.77153438, 1.75364009, 1.51206722, 1.85205867,\n",
       "        2.2725744 , 2.04890249, 2.33519681, 3.10466884, 2.70202849,\n",
       "        2.57678566, 2.63941587, 2.7109756 , 2.14732139, 2.19204298,\n",
       "        2.22784594, 2.87202366, 2.0131138 , 2.12942704, 1.8252113 ,\n",
       "        1.77154014, 1.68205747, 1.48523063, 1.60153344, 2.15626856,\n",
       "        1.89680056, 1.7625815 , 1.30628718, 1.46732673, 1.61943821,\n",
       "        1.66416324, 1.28839283, 1.50312497, 1.4494325 , 1.66417407,\n",
       "        1.21680753, 1.19892111, 1.35101424, 1.20786828, 1.58364952,\n",
       "        1.18996619, 1.22576262, 0.93944699, 0.82313986, 0.85892296,\n",
       "        0.778404  , 0.56367186, 0.76050471, 0.7157738 , 0.60840377,\n",
       "        0.50104166, 0.33999034, 0.42946428, 0.12526041, 0.17894228,\n",
       "        0.08052455, 0.03578846, 0.03578869, 0.        , 0.95734745]),\n",
       " array([0.08439917, 0.09355518, 0.1027112 , 0.11186721, 0.12102323,\n",
       "        0.13017924, 0.13933526, 0.14849128, 0.15764728, 0.1668033 ,\n",
       "        0.17595932, 0.18511532, 0.19427134, 0.20342736, 0.21258338,\n",
       "        0.22173938, 0.2308954 , 0.24005142, 0.24920742, 0.25836346,\n",
       "        0.26751944, 0.27667546, 0.28583148, 0.2949875 , 0.30414352,\n",
       "        0.31329954, 0.32245556, 0.33161154, 0.34076756, 0.34992358,\n",
       "        0.3590796 , 0.36823562, 0.37739164, 0.38654765, 0.39570364,\n",
       "        0.40485966, 0.41401568, 0.4231717 , 0.43232772, 0.44148374,\n",
       "        0.45063975, 0.45979574, 0.46895176, 0.47810778, 0.4872638 ,\n",
       "        0.49641982, 0.50557584, 0.51473182, 0.52388787, 0.53304386,\n",
       "        0.54219991, 0.5513559 , 0.56051189, 0.56966794, 0.57882392,\n",
       "        0.58797997, 0.59713596, 0.60629201, 0.615448  , 0.62460399,\n",
       "        0.63376004, 0.64291602, 0.65207207, 0.66122806, 0.67038411,\n",
       "        0.6795401 , 0.68869609, 0.69785213, 0.70700812, 0.71616417,\n",
       "        0.72532016, 0.73447621, 0.7436322 , 0.75278819, 0.76194423,\n",
       "        0.77110022, 0.78025627, 0.78941226, 0.79856831, 0.8077243 ,\n",
       "        0.81688029, 0.82603633, 0.83519232, 0.84434837, 0.85350436,\n",
       "        0.86266041, 0.8718164 , 0.88097239, 0.89012843, 0.89928442,\n",
       "        0.90844047, 0.91759646, 0.92675251, 0.9359085 , 0.94506449,\n",
       "        0.95422053, 0.96337652, 0.97253257, 0.98168856, 0.99084461,\n",
       "        1.0000006 ]),\n",
       " <BarContainer object of 100 artists>)"
      ]
     },
     "execution_count": 16,
     "metadata": {},
     "output_type": "execute_result"
    },
    {
     "data": {
      "image/png": "[encoded data removed]",
      "text/plain": [
       "<Figure size 640x480 with 1 Axes>"
      ]
     },
     "metadata": {},
     "output_type": "display_data"
    }
   ],
   "source": [
    "num_bins = 100\n",
    "plt.hist(\n",
    "    list(scores), \n",
    "    num_bins, \n",
    "    density = 1, \n",
    "    color ='green',\n",
    "    alpha = 0.7\n",
    ")"
   ]
  },
  {
   "cell_type": "code",
   "execution_count": 17,
   "metadata": {},
   "outputs": [
    {
     "name": "stdout",
     "output_type": "stream",
     "text": [
      "Accuracy: 156.22%\n",
      "Accuracy: 151.75%\n",
      "Accuracy: 137.09%\n",
      "Accuracy: 110.31%\n",
      "Accuracy: 71.16%\n",
      "Accuracy: 42.17%\n",
      "Accuracy: 19.830000000000002%\n",
      "Accuracy: 4.7%\n"
     ]
    }
   ],
   "source": [
    "acc_list = []\n",
    "\n",
    "for threshold in range(2, 10, 1):\n",
    "    t = threshold/10\n",
    "    acc, scores = ev.evaluate(X_test, y_test, eval_type=\"embedding\", threshold=t)\n",
    "    acc_list.append({\n",
    "        \"accuracy\": acc,\n",
    "        \"threshold\": t\n",
    "    })"
   ]
  },
  {
   "cell_type": "code",
   "execution_count": 19,
   "metadata": {},
   "outputs": [
    {
     "data": {
      "text/plain": [
       "<AxesSubplot: xlabel='threshold'>"
      ]
     },
     "execution_count": 19,
     "metadata": {},
     "output_type": "execute_result"
    },
    {
     "data": {
      "image/png": "[encoded data removed]",
      "text/plain": [
       "<Figure size 640x480 with 1 Axes>"
      ]
     },
     "metadata": {},
     "output_type": "display_data"
    }
   ],
   "source": [
    "acc_emb_df = pd.DataFrame(acc_list)\n",
    "acc_emb_df.plot(\n",
    "    x = \"threshold\",\n",
    "    y = \"accuracy\"\n",
    ")"
   ]
  }
 ],
 "metadata": {
  "kernelspec": {
   "display_name": "env",
   "language": "python",
   "name": "python3"
  },
  "language_info": {
   "codemirror_mode": {
    "name": "ipython",
    "version": 3
   },
   "file_extension": ".py",
   "mimetype": "text/x-python",
   "name": "python",
   "nbconvert_exporter": "python",
   "pygments_lexer": "ipython3",
   "version": "3.9.12"
  },
  "orig_nbformat": 4,
  "vscode": {
   "interpreter": {
    "hash": "1c4f0f78180100c56e0ffdb0dcd34560ec9f7f0e4e316e6c60bad5e296d6075d"
   }
  }
 },
 "nbformat": 4,
 "nbformat_minor": 2
}
